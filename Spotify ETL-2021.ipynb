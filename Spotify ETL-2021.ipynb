{
 "cells": [
  {
   "cell_type": "code",
   "execution_count": 1,
   "metadata": {},
   "outputs": [],
   "source": [
    "import sqlalchemy\n",
    "import pandas as pd \n",
    "from sqlalchemy.orm import sessionmaker\n",
    "import requests\n",
    "import json\n",
    "from datetime import datetime\n",
    "import datetime\n",
    "import sqlite3"
   ]
  },
  {
   "cell_type": "code",
   "execution_count": 2,
   "metadata": {},
   "outputs": [],
   "source": [
    "DATABASE_LOCATION = \"sqlite:///my_played_tracks.sqlite\"\n",
    "USER_ID = \"v4j8byrd5a0ufehl1vpvarswq\" # my Spotify user ID\n",
    "TOKEN = \"BQBo8zKB50ACuar13Rcf7EO9ogNnO0PNoS7kH5pp2WMWgha4HTvIVCr7S5cg72ML1NZ7S0JXSfqBf64kP6iZ84XMaSJnKOKwTdDPS1kl1Nr-LLVxCAGxiu9ICeK7vl4E5bDcvWP6hS1xiqTnjmIOGkMBKmdA8T1JSvTiBlSIqHQhDcE4igE\" # my Spotify API token"
   ]
  },
  {
   "cell_type": "markdown",
   "metadata": {},
   "source": [
    "# Validating Data"
   ]
  },
  {
   "cell_type": "code",
   "execution_count": 3,
   "metadata": {},
   "outputs": [],
   "source": [
    "def check_if_valid_data(df: pd.DataFrame) -> bool:\n",
    "    # Check if dataframe is empty\n",
    "    if df.empty:\n",
    "        print(\"No songs downloaded. Finishing execution\")\n",
    "        return False \n",
    "\n",
    "    # Primary Key Check\n",
    "    if pd.Series(df['played_at']).is_unique:\n",
    "        pass\n",
    "    else:\n",
    "        raise Exception(\"Primary Key check is violated\")\n",
    "\n",
    "    # Check for nulls\n",
    "    if df.isnull().values.any():\n",
    "        raise Exception(\"Null values found\")\n",
    "\n",
    "    # Check that all timestamps are of yesterday's date\n",
    "    yesterday = datetime.datetime.now() - datetime.timedelta(days=1)\n",
    "    yesterday = yesterday.replace(hour=0, minute=0, second=0, microsecond=0)\n",
    "\n",
    "    timestamps = df[\"timestamp\"].tolist()\n",
    "    for timestamp in timestamps:\n",
    "        if datetime.datetime.strptime(timestamp, '%Y-%m-%d') != yesterday:\n",
    "            raise Exception(\"At least one of the returned songs does not have a yesterday's timestamp\")\n",
    "\n",
    "    return True"
   ]
  },
  {
   "cell_type": "markdown",
   "metadata": {},
   "source": [
    "# Extract"
   ]
  },
  {
   "cell_type": "code",
   "execution_count": 4,
   "metadata": {},
   "outputs": [],
   "source": [
    "if __name__ == \"__main__\":\n",
    "\n",
    "    headers = {\n",
    "        \"Accept\" : \"application/json\",\n",
    "        \"Content-Type\" : \"application/json\",\n",
    "        \"Authorization\" : \"Bearer {token}\".format(token=TOKEN)\n",
    "    }\n",
    "    \n",
    "    # Convert time to Unix timestamp in miliseconds      \n",
    "    today = datetime.datetime.now()\n",
    "    yesterday = today - datetime.timedelta(days=1)\n",
    "    yesterday_unix_timestamp = int(yesterday.timestamp()) * 1000\n",
    "\n",
    "    # Download all songs that I listened to in the last 24 hours      \n",
    "    r = requests.get(\"https://api.spotify.com/v1/me/player/recently-played?after={time}\".format(time=yesterday_unix_timestamp), headers = headers)\n",
    "\n",
    "    data = r.json()\n",
    "\n",
    "    song_names = []\n",
    "    artist_names = []\n",
    "    played_at_list = []\n",
    "    timestamps = []\n",
    "\n",
    "    # Extracting relevant data      \n",
    "    for song in data[\"items\"]:\n",
    "        song_names.append(song[\"track\"][\"name\"])\n",
    "        artist_names.append(song[\"track\"][\"album\"][\"artists\"][0][\"name\"])\n",
    "        played_at_list.append(song[\"played_at\"])\n",
    "        timestamps.append(song[\"played_at\"][0:10])"
   ]
  },
  {
   "cell_type": "markdown",
   "metadata": {},
   "source": [
    " # Transform"
   ]
  },
  {
   "cell_type": "code",
   "execution_count": 5,
   "metadata": {},
   "outputs": [],
   "source": [
    " # Prepare a dictionary in order to turn it into a pandas dataframe below       \n",
    "song_dict = {\n",
    "    \"song_name\" : song_names,\n",
    "    \"artist_name\": artist_names,\n",
    "    \"played_at\" : played_at_list,\n",
    "    \"timestamp\" : timestamps\n",
    "}\n",
    "\n",
    "song_df = pd.DataFrame(song_dict, columns = [\"song_name\", \"artist_name\", \"played_at\", \"timestamp\"])"
   ]
  },
  {
   "cell_type": "code",
   "execution_count": 6,
   "metadata": {},
   "outputs": [
    {
     "data": {
      "text/html": [
       "<div>\n",
       "<style scoped>\n",
       "    .dataframe tbody tr th:only-of-type {\n",
       "        vertical-align: middle;\n",
       "    }\n",
       "\n",
       "    .dataframe tbody tr th {\n",
       "        vertical-align: top;\n",
       "    }\n",
       "\n",
       "    .dataframe thead th {\n",
       "        text-align: right;\n",
       "    }\n",
       "</style>\n",
       "<table border=\"1\" class=\"dataframe\">\n",
       "  <thead>\n",
       "    <tr style=\"text-align: right;\">\n",
       "      <th></th>\n",
       "      <th>song_name</th>\n",
       "      <th>artist_name</th>\n",
       "      <th>played_at</th>\n",
       "      <th>timestamp</th>\n",
       "    </tr>\n",
       "  </thead>\n",
       "  <tbody>\n",
       "    <tr>\n",
       "      <td>0</td>\n",
       "      <td>Snap Out Of It</td>\n",
       "      <td>Arctic Monkeys</td>\n",
       "      <td>2021-05-17T02:14:08.861Z</td>\n",
       "      <td>2021-05-17</td>\n",
       "    </tr>\n",
       "    <tr>\n",
       "      <td>1</td>\n",
       "      <td>Cancer</td>\n",
       "      <td>My Chemical Romance</td>\n",
       "      <td>2021-05-17T02:10:32.496Z</td>\n",
       "      <td>2021-05-17</td>\n",
       "    </tr>\n",
       "    <tr>\n",
       "      <td>2</td>\n",
       "      <td>Come Through (feat. Chris Brown)</td>\n",
       "      <td>H.E.R.</td>\n",
       "      <td>2021-05-17T02:02:45.683Z</td>\n",
       "      <td>2021-05-17</td>\n",
       "    </tr>\n",
       "    <tr>\n",
       "      <td>3</td>\n",
       "      <td>So Sick</td>\n",
       "      <td>Ne-Yo</td>\n",
       "      <td>2021-05-17T01:59:01.530Z</td>\n",
       "      <td>2021-05-17</td>\n",
       "    </tr>\n",
       "    <tr>\n",
       "      <td>4</td>\n",
       "      <td>Brokenhearted (feat. Wanya Morris) - Single Ve...</td>\n",
       "      <td>Brandy</td>\n",
       "      <td>2021-05-17T01:55:10.834Z</td>\n",
       "      <td>2021-05-17</td>\n",
       "    </tr>\n",
       "  </tbody>\n",
       "</table>\n",
       "</div>"
      ],
      "text/plain": [
       "                                           song_name          artist_name  \\\n",
       "0                                     Snap Out Of It       Arctic Monkeys   \n",
       "1                                             Cancer  My Chemical Romance   \n",
       "2                   Come Through (feat. Chris Brown)               H.E.R.   \n",
       "3                                            So Sick                Ne-Yo   \n",
       "4  Brokenhearted (feat. Wanya Morris) - Single Ve...               Brandy   \n",
       "\n",
       "                  played_at   timestamp  \n",
       "0  2021-05-17T02:14:08.861Z  2021-05-17  \n",
       "1  2021-05-17T02:10:32.496Z  2021-05-17  \n",
       "2  2021-05-17T02:02:45.683Z  2021-05-17  \n",
       "3  2021-05-17T01:59:01.530Z  2021-05-17  \n",
       "4  2021-05-17T01:55:10.834Z  2021-05-17  "
      ]
     },
     "execution_count": 6,
     "metadata": {},
     "output_type": "execute_result"
    }
   ],
   "source": [
    "song_df"
   ]
  },
  {
   "cell_type": "markdown",
   "metadata": {},
   "source": [
    "# Load"
   ]
  },
  {
   "cell_type": "code",
   "execution_count": 7,
   "metadata": {},
   "outputs": [
    {
     "name": "stdout",
     "output_type": "stream",
     "text": [
      "Opened database successfully\n",
      "Data already exists in the database\n",
      "Close database successfully\n"
     ]
    }
   ],
   "source": [
    "engine = sqlalchemy.create_engine(DATABASE_LOCATION)\n",
    "conn = sqlite3.connect('my_played_tracks.sqlite')\n",
    "cursor = conn.cursor()\n",
    "\n",
    "sql_query = \"\"\"\n",
    "    CREATE TABLE IF NOT EXISTS my_played_tracks(\n",
    "        song_name VARCHAR(200),\n",
    "        artist_name VARCHAR(200),\n",
    "        played_at VARCHAR(200),\n",
    "        timestamp VARCHAR(200),\n",
    "        CONSTRAINT primary_key_constraint PRIMARY KEY (played_at)\n",
    "    )\n",
    "    \"\"\"\n",
    "\n",
    "cursor.execute(sql_query)\n",
    "print(\"Opened database successfully\")\n",
    "\n",
    "try:\n",
    "        song_df.to_sql(\"my_played_tracks\", engine, index=False, if_exists='append')\n",
    "except:\n",
    "        print(\"Data already exists in the database\")\n",
    "\n",
    "conn.close()\n",
    "print(\"Close database successfully\")"
   ]
  },
  {
   "cell_type": "code",
   "execution_count": null,
   "metadata": {},
   "outputs": [],
   "source": []
  }
 ],
 "metadata": {
  "kernelspec": {
   "display_name": "Python 3",
   "language": "python",
   "name": "python3"
  },
  "language_info": {
   "codemirror_mode": {
    "name": "ipython",
    "version": 3
   },
   "file_extension": ".py",
   "mimetype": "text/x-python",
   "name": "python",
   "nbconvert_exporter": "python",
   "pygments_lexer": "ipython3",
   "version": "3.7.4"
  }
 },
 "nbformat": 4,
 "nbformat_minor": 2
}
